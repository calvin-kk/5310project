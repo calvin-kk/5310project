{
 "cells": [
  {
   "cell_type": "code",
   "execution_count": null,
   "id": "c083ed93",
   "metadata": {},
   "outputs": [],
   "source": [
    "chunksize = 10 ** 6"
   ]
  },
  {
   "cell_type": "code",
   "execution_count": null,
   "id": "1a5eb306",
   "metadata": {},
   "outputs": [],
   "source": [
    "#insert data name.basic\n",
    "with pd.read_csv(\"name.basics.tsv\",sep='\\t', chunksize=chunksize,error_bad_lines=False) as reader:\n",
    "    for chunk in reader:\n",
    "        name_basics=chunk   \n",
    "        name_basics['birthYear']=name_basics['birthYear'].replace(r'\\N',np.nan)\n",
    "        name_basics['deathYear']=name_basics['deathYear'].replace(r'\\N',np.nan)\n",
    "        name_basics.to_sql(\"crew_basics_load\",engine,if_exists=\"append\",index=False)\n",
    "        print(\"crew_basics_load inserted!\")\n",
    "        del name_basics\n",
    "        gc.collect()\n"
   ]
  },
  {
   "cell_type": "code",
   "execution_count": null,
   "id": "55dbce49",
   "metadata": {},
   "outputs": [],
   "source": [
    "#create table crew_basics\n",
    "sqlcmd='''\n",
    "delete from crew_basics;\n",
    "insert into crew_basics\n",
    "select nconst, \"primaryName\", cast(\"birthYear\"||'-01-01' as date), cast(\"deathYear\"||'-01-01' as date) from crew_basics_load;\n",
    "'''\n",
    "connn.execute(sqlcmd)"
   ]
  },
  {
   "cell_type": "code",
   "execution_count": null,
   "id": "0f63b072",
   "metadata": {},
   "outputs": [],
   "source": [
    "#insert data crew\n",
    "with pd.read_csv(\"title.crew.tsv\",sep='\\t', chunksize=chunksize,error_bad_lines=False) as reader:\n",
    "    for chunk in reader:\n",
    "        title_crew=chunk\n",
    "        title_crew['directors']=title_crew['directors'].replace(r'\\N',np.nan)\n",
    "        title_crew['writers']=title_crew['writers'].replace(r'\\N',np.nan)\n",
    "        title_crew.to_sql(\"title_crew_load\",engine,if_exists=\"append\",index=False)\n",
    "        print(\"title_crew_load inserted!\")  \n",
    "        del title_crew\n",
    "        gc.collect()"
   ]
  },
  {
   "cell_type": "code",
   "execution_count": null,
   "id": "3d7edb2c",
   "metadata": {},
   "outputs": [],
   "source": [
    "#create table title_director\n",
    "sqlcmd='''\n",
    "delete from title_director; \n",
    "INSERT INTO public.title_director(title_id,director_id) \n",
    "SELECT tconst, directors \n",
    "FROM public.title_crew_load;;\n",
    "'''\n",
    "connn.execute(sqlcmd)"
   ]
  },
  {
   "cell_type": "code",
   "execution_count": null,
   "id": "790c01a7",
   "metadata": {},
   "outputs": [],
   "source": [
    "#create table tv_episode\n",
    "title_episode=pd.read_csv(\"title.episode.tsv\",sep='\\t',error_bad_lines=False)        \n",
    "title_episode.rename(columns={\"tconst\":\"title_id\",\"parentTconst\":\"parent_title_id\",\"seasonNumber\":\"seasonnumber\",\"episodeNumber\":\"episodenumber\"},inplace=True)\n",
    "title_episode['seasonnumber']=title_episode['seasonnumber'].replace(r'\\N',0)\n",
    "title_episode['episodenumber']=title_episode['episodenumber'].replace(r'\\N',0)\n",
    "title_episode.drop_duplicates()\n",
    "title_episode.insert(0,\"id\",range(1,1+len(title_episode)))\n",
    "print(title_episode)\n",
    "title_episode.to_sql(\"tv_episode\",engine,if_exists=\"append\",index=False)\n",
    "print(\"tv_episode inserted!\")  \n",
    "del title_episode\n",
    "gc.collect()\n",
    "    \n"
   ]
  },
  {
   "cell_type": "code",
   "execution_count": null,
   "id": "e5acee67",
   "metadata": {},
   "outputs": [],
   "source": [
    "#insert data principals\n",
    "with pd.read_csv(\"title.principals.tsv\",sep='\\t', chunksize=chunksize,error_bad_lines=False) as reader:\n",
    "    for chunk in reader:\n",
    "        title_principals=chunk\n",
    "        title_principals['job']=title_principals['job'].replace(r'\\N',np.nan)\n",
    "        title_principals['characters']=title_principals['characters'].replace(r'\\N',np.nan)\n",
    "        title_principals.to_sql(\"title_principals_load\",engine,if_exists=\"append\",index=False)\n",
    "        print(\"title_principals_load inserted!\")\n",
    "        del title_principals\n",
    "        gc.collect()"
   ]
  },
  {
   "cell_type": "code",
   "execution_count": null,
   "id": "2c313182",
   "metadata": {},
   "outputs": [],
   "source": [
    "#create table principals\n",
    "sqlcmd='''\n",
    "delete from principals;\n",
    "insert into principals (title_id, crew_id, category, job) \n",
    "SELECT tconst, nconst, category, job \n",
    "FROM public.title_principals_load;\n",
    "'''  \n",
    "connn.execute(sqlcmd)"
   ]
  },
  {
   "cell_type": "code",
   "execution_count": null,
   "id": "ad7d6ef2",
   "metadata": {},
   "outputs": [],
   "source": [
    "#insert data akas\n",
    "with pd.read_csv(\"title.akas.tsv\",sep='\\t', chunksize=chunksize,error_bad_lines=False) as reader:\n",
    "    for chunk in reader:\n",
    "        title_akas=chunk\n",
    "        title_akas['language']=title_akas['language'].replace(r'\\N',np.nan)\n",
    "        title_akas['types']=title_akas['types'].replace(r'\\N',np.nan)\n",
    "        title_akas['attributes']=title_akas['attributes'].replace(r'\\N',np.nan)\n",
    "        title_akas['isOriginalTitle']=title_akas['isOriginalTitle'].replace(r'\\N',np.nan)\n",
    "        title_akas.to_sql(\"title_akas_load\",engine,if_exists=\"append\",index=False)\n",
    "        print(\"title_akas_load inserted!\")\n",
    "        del title_akas\n",
    "        gc.collect()"
   ]
  },
  {
   "cell_type": "code",
   "execution_count": null,
   "id": "981b4a55",
   "metadata": {},
   "outputs": [],
   "source": [
    "#create table title_akas\n",
    "sqlcmd='''\n",
    "delete from title_akas;\n",
    "INSERT INTO title_akas (title_id, title, region, language, attributes, isoriginaltitle) \n",
    "SELECT \"titleId\", title, region, language, attributes \n",
    ",case when \"isOriginalTitle\"='0' then false when \"isOriginalTitle\"='1' then true else null end \n",
    "FROM public.title_akas_load;\n",
    "'''\n",
    "connn.execute(sqlcmd)"
   ]
  },
  {
   "cell_type": "code",
   "execution_count": null,
   "id": "fc664a9a",
   "metadata": {},
   "outputs": [],
   "source": [
    "#insert data ratings\n",
    "title_rating=pd.read_csv(\"title.ratings.tsv\",sep='\\t', chunksize=chunksize,error_bad_lines=False) \n",
    "print(title_rating)"
   ]
  },
  {
   "cell_type": "code",
   "execution_count": null,
   "id": "ea1db130",
   "metadata": {},
   "outputs": [],
   "source": [
    "#create table profession\n",
    "sqlcmd='''\n",
    "DELETE FROM profession; \n",
    "insert into profession (profession_type) \n",
    "select distinct unnest(string_to_array(\"primaryProfession\",',')) from public.crew_basics_load; \n",
    "'''\n",
    "connn.execute(sqlcmd)"
   ]
  },
  {
   "cell_type": "code",
   "execution_count": null,
   "id": "32f08053",
   "metadata": {},
   "outputs": [],
   "source": [
    "#insert data basics\n",
    "with pd.read_csv(\"title.basics.tsv\",sep='\\t', chunksize=chunksize,error_bad_lines=False) as reader:\n",
    "    for chunk in reader:\n",
    "        title_basics=chunk\n",
    "        title_basics['startYear']=title_basics['startYear'].replace(r'\\N',np.nan)\n",
    "        title_basics['endYear']=title_basics['endYear'].replace(r'\\N',np.nan)\n",
    "        title_basics['runtimeMinutes']=title_basics['runtimeMinutes'].replace(r'\\N',np.nan)\n",
    "        title_basics['isAdult']=title_basics['isAdult'].replace(r'\\N',np.nan)\n",
    "        title_basics.to_sql(\"title_basics_load\",engine,if_exists=\"append\",index=False)\n",
    "        print(\"title_basics_load inserted!\")\n",
    "        del title_basics\n",
    "        gc.collect()"
   ]
  },
  {
   "cell_type": "code",
   "execution_count": null,
   "id": "6e055d1b",
   "metadata": {},
   "outputs": [],
   "source": [
    "#insert data ratings\n",
    "with pd.read_csv(\"title.ratings.tsv\",sep='\\t', chunksize=chunksize,error_bad_lines=False) as reader:\n",
    "    for chunk in reader:\n",
    "        title_ratings=chunk\n",
    "        title_ratings.to_sql(\"title_ratings_load\",engine,if_exists=\"append\",index=False)\n",
    "        print(\"title_ratings_load inserted!\")\n",
    "        del title_ratings\n",
    "        gc.collect()"
   ]
  },
  {
   "cell_type": "code",
   "execution_count": null,
   "id": "0d790a8e",
   "metadata": {},
   "outputs": [],
   "source": [
    "#create table title_basic\n",
    "sqlcmd='''\n",
    "INSERT INTO public.title_basic(\n",
    "title_id, titletype, name, isadult, startyear, endyear, averagerating, numvotes) \n",
    "select distinct b.tconst,b.\"titleType\",coalesce(b.\"primaryTitle\",'') \n",
    ",CASE WHEN b.\"isAdult\" = 1 THEN TRUE ELSE FALSE END  \n",
    ",cast(b.\"startYear\"||'-01-01' as date), \n",
    "cast(b.\"endYear\"||'-01-01' as date), r.\"averageRating\", r.\"numVotes\" \n",
    "from title_basics_load b left join title_ratings_load r on b.tconst=r.tconst ; \n",
    "'''\n",
    "connn.execute(sqlcmd)"
   ]
  },
  {
   "cell_type": "code",
   "execution_count": null,
   "id": "8e4d8563",
   "metadata": {},
   "outputs": [],
   "source": [
    "#create table type\n",
    "sqlcmd='''\n",
    "delete from type; \n",
    "insert into type (type) \n",
    "SELECT distinct  \"types\" FROM public.title_akas_LOAD WHERE types is not null; \n",
    "'''\n",
    "connn.execute(sqlcmd)"
   ]
  },
  {
   "cell_type": "code",
   "execution_count": null,
   "id": "fed40c11",
   "metadata": {},
   "outputs": [],
   "source": [
    "#create table title_type\n",
    "sqlcmd='''\n",
    "DELETE FROM title_type; \n",
    "INSERT INTO  public.title_type (uid,type_id) \n",
    "select ta.uid,t.type_id from public.type t inner join title_akas_LOAD tal \n",
    "on t.type=tal.types inner join title_akas ta on ta.title_id=tal.\"titleId\"; \n",
    "'''\n",
    "connn.execute(sqlcmd)"
   ]
  },
  {
   "cell_type": "code",
   "execution_count": null,
   "id": "6d124d28",
   "metadata": {},
   "outputs": [],
   "source": [
    "#create table genre\n",
    "sqlcmd='''\n",
    "delete from genres;\n",
    "insert into genres (genre_type)\n",
    "SELECT distinct  \"genres\" FROM public.title_basics_LOAD WHERE genres is not null; \n",
    "'''\n",
    "connn.execute(sqlcmd)"
   ]
  },
  {
   "cell_type": "code",
   "execution_count": null,
   "id": "785cbf31",
   "metadata": {},
   "outputs": [],
   "source": [
    "#create table title_genre\n",
    "sqlcmd='''\n",
    "DELETE FROM title_genre;\n",
    "INSERT INTO  public.title_genre (genre_id,title_id)\n",
    "select g.genre_id,tb.title_id from public.genres g inner join title_basics_LOAD tbl\n",
    "on g.genre_type=tbl.genres inner join title_basic tb on tb.title_id=tbl.\"tconst\";\n",
    "'''\n",
    "connn.execute(sqlcmd)"
   ]
  },
  {
   "cell_type": "code",
   "execution_count": null,
   "id": "55013fac",
   "metadata": {},
   "outputs": [],
   "source": [
    "#create table crew_profession\n",
    "sqlcmd='''\n",
    "DELETE FROM crew_profession; \n",
    "INSERT INTO  public.crew_profession(crew_id,profession_id) \n",
    "select cb.crew_id,p.profession_id from public.profession p inner join crew_basics_LOAD cbl \n",
    "on p.profession_type=cbl.primaryProfession inner join crew_basics cb on cb.crew_id=cbl.\"nconst\" ; \n",
    "'''\n",
    "connn.execute(sqlcmd)"
   ]
  },
  {
   "cell_type": "code",
   "execution_count": null,
   "id": "9a7d32c0",
   "metadata": {},
   "outputs": [],
   "source": [
    "#create table knownfortitles\n",
    "sqlcmd='''\n",
    "DELETE FROM knownfortitles; \n",
    "INSERT INTO  public.knownfortitles (crew_id,title_id) \n",
    "select cb.crew_id,cbl.knownForTitles \n",
    "from public.crew_basics as  cb  \n",
    "inner join crew_basics_LOAD  as cbl on cb.crew_id=cbl.\"nconst\"; \n",
    "'''\n",
    "connn.execute(sqlcmd)"
   ]
  }
 ],
 "metadata": {
  "kernelspec": {
   "display_name": "Python 3",
   "language": "python",
   "name": "python3"
  },
  "language_info": {
   "codemirror_mode": {
    "name": "ipython",
    "version": 3
   },
   "file_extension": ".py",
   "mimetype": "text/x-python",
   "name": "python",
   "nbconvert_exporter": "python",
   "pygments_lexer": "ipython3",
   "version": "3.8.8"
  }
 },
 "nbformat": 4,
 "nbformat_minor": 5
}
